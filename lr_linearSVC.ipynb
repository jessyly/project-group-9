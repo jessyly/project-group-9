{
 "cells": [
  {
   "cell_type": "markdown",
   "metadata": {},
   "source": [
    "## Data Transformation"
   ]
  },
  {
   "cell_type": "code",
   "execution_count": 1,
   "metadata": {},
   "outputs": [],
   "source": [
    "import pandas as pd\n",
    "import json\n",
    "from sklearn.model_selection import train_test_split\n",
    "from sklearn.metrics import accuracy_score\n",
    "from sklearn.model_selection import cross_val_score\n",
    "from sklearn import tree\n",
    "from sklearn.svm import LinearSVC\n",
    "from pandas.core.frame import DataFrame\n",
    "import numpy as np\n",
    "from sklearn.linear_model import LogisticRegression"
   ]
  },
  {
   "cell_type": "code",
   "execution_count": 2,
   "metadata": {},
   "outputs": [],
   "source": [
    "def disease_dict(column):\n",
    "    count=0\n",
    "    disease_set = set()\n",
    "    disease_dict = {}\n",
    "    for line in column:\n",
    "        if line==None:\n",
    "            continue\n",
    "        else:\n",
    "            disease_set.add(line)\n",
    "    for item in disease_set:\n",
    "        count += 1\n",
    "        disease_dict[item]=count\n",
    "    return disease_dict\n"
   ]
  },
  {
   "cell_type": "code",
   "execution_count": 4,
   "metadata": {},
   "outputs": [
    {
     "data": {
      "text/plain": [
       "False    2495551\n",
       "Name: PBSDISEASEGROUP, dtype: int64"
      ]
     },
     "execution_count": 4,
     "metadata": {},
     "output_type": "execute_result"
    }
   ],
   "source": [
    "# Import dataset and count the null value\n",
    "data = pd.read_csv('final_result.csv')\n",
    "data = data.drop(columns=['DAYSLAG_DIS_PREVDIS','SEQ_NO','SEQ_NO_1'])\n",
    "data['PBSDISEASEGROUP'].isnull().value_counts()"
   ]
  },
  {
   "cell_type": "code",
   "execution_count": 4,
   "metadata": {
    "collapsed": true
   },
   "outputs": [],
   "source": [
    "##If does not already got the disease dictonary run this code\n",
    "# disease_list = disease_dict(data['PBSDISEASEGROUP'])\n",
    "# with open('final_disease_dic.json','w') as f:\n",
    "#     json.dump(disease_list, f)"
   ]
  },
  {
   "cell_type": "code",
   "execution_count": 5,
   "metadata": {},
   "outputs": [],
   "source": [
    "#Otherwise, just open the dictonary\n",
    "with open('final_disease_dic.json','r', encoding='utf-8') as f:\n",
    "    disease_list = json.load(f)"
   ]
  },
  {
   "cell_type": "code",
   "execution_count": 6,
   "metadata": {},
   "outputs": [
    {
     "data": {
      "text/plain": [
       "(258252,)"
      ]
     },
     "execution_count": 6,
     "metadata": {},
     "output_type": "execute_result"
    }
   ],
   "source": [
    "#clean dataset\n",
    "#replace disease with dictonary\n",
    "data.replace(disease_list,inplace = True)\n",
    "\n",
    "# sort\n",
    "data_sorted = data.sort_values(\n",
    "    ['MASTERPATIENTID', 'DISPENSECALENDARDATE'], ascending=[1, 1])\n",
    "\n",
    "# remove duplicate\n",
    "data_sorted.drop_duplicates(\n",
    "    subset=['MASTERPATIENTID',\n",
    "        'PBSDISEASEGROUP'],\n",
    "    keep='first',\n",
    "    inplace=True)\n",
    "\n",
    "new_data = data_sorted.drop(columns=['DISPENSECALENDARDATE'])\n",
    "#group by patient id and make list of disease\n",
    "data_new = new_data.groupby(['MASTERPATIENTID'])['PBSDISEASEGROUP'].apply(list)\n",
    "#number of distinct patient\n",
    "data_new.shape"
   ]
  },
  {
   "cell_type": "code",
   "execution_count": 7,
   "metadata": {},
   "outputs": [
    {
     "name": "stderr",
     "output_type": "stream",
     "text": [
      "/anaconda3/lib/python3.6/site-packages/ipykernel_launcher.py:16: DeprecationWarning: \n",
      ".ix is deprecated. Please use\n",
      ".loc for label based indexing or\n",
      ".iloc for positional indexing\n",
      "\n",
      "See the documentation here:\n",
      "http://pandas.pydata.org/pandas-docs/stable/indexing.html#ix-indexer-is-deprecated\n",
      "  app.launch_new_instance()\n"
     ]
    }
   ],
   "source": [
    "#transform data set\n",
    "transform = data_sorted.drop(columns=['DISPENSECALENDARDATE'])\n",
    "transform['count1'] = 1\n",
    "transform.set_index('MASTERPATIENTID',inplace = True)\n",
    "transform = transform.set_index('PBSDISEASEGROUP',append = True)\n",
    "transform = pd.Series(transform.values.reshape(len(transform)),index = transform.index)\n",
    "transform = transform.unstack()\n",
    "transform = transform.fillna(0)\n",
    "\n",
    "##deleting the last value y\n",
    "i=0\n",
    "for id in data_new.keys():\n",
    "    transform[data_new[id][-1]][i] = 0.00000\n",
    "    i+=1\n",
    "\n",
    "without_zero = transform.ix[~(transform==0).all(axis=1),:]"
   ]
  },
  {
   "cell_type": "code",
   "execution_count": 8,
   "metadata": {},
   "outputs": [],
   "source": [
    "# y dataframe\n",
    "y_list = []\n",
    "for id in data_new.keys():\n",
    "    if len(data_new[id]) == 1:\n",
    "        continue\n",
    "    y_list.append(data_new[id][-1])\n",
    "c={\"y\" : y_list}\n",
    "y_result = pd.DataFrame(c)\n",
    "\n",
    "# adding y value to the dataset\n",
    "new_transform = without_zero\n",
    "new_transform = new_transform.reset_index(drop=True)\n",
    "new_transform = pd.concat([new_transform,y_result], axis=1)\n",
    "x = new_transform.iloc[:, :-1]\n",
    "y = new_transform.iloc[:, -1]"
   ]
  },
  {
   "cell_type": "code",
   "execution_count": 9,
   "metadata": {},
   "outputs": [],
   "source": [
    "#split into train data and test data 20%\n",
    "x_train, x_test, y_train, y_test = train_test_split(x, y, test_size=0.2, random_state=42)"
   ]
  },
  {
   "cell_type": "markdown",
   "metadata": {},
   "source": [
    "## Logistic Regression"
   ]
  },
  {
   "cell_type": "code",
   "execution_count": 11,
   "metadata": {},
   "outputs": [
    {
     "data": {
      "text/plain": [
       "0.3066349151032894"
      ]
     },
     "execution_count": 11,
     "metadata": {},
     "output_type": "execute_result"
    }
   ],
   "source": [
    "clf_lr = LogisticRegression(solver='lbfgs',multi_class='multinomial')\n",
    "clf_lr = clf_lr.fit(x_train, y_train)\n",
    "y_predict_clf_lr_prob = clf_lr.predict_proba(x_test)\n",
    "y_predict_clf_lr = clf_lr.predict(x_test)\n",
    "accuracy_score(y_test, y_predict_clf_lr)"
   ]
  },
  {
   "cell_type": "markdown",
   "metadata": {},
   "source": [
    "## Linear SVC"
   ]
  },
  {
   "cell_type": "code",
   "execution_count": 12,
   "metadata": {},
   "outputs": [
    {
     "data": {
      "text/plain": [
       "0.31081682832859"
      ]
     },
     "execution_count": 12,
     "metadata": {},
     "output_type": "execute_result"
    }
   ],
   "source": [
    "clf_linearSVC = LinearSVC(multi_class='ovr')\n",
    "clf_linearSVC = clf_linearSVC.fit(x_train, y_train)\n",
    "y_predict_linearSVC = clf_linearSVC.predict(x_test)\n",
    "accuracy_score(y_test, y_predict_linearSVC)"
   ]
  }
 ],
 "metadata": {
  "kernelspec": {
   "display_name": "Python 3",
   "language": "python",
   "name": "python3"
  },
  "language_info": {
   "codemirror_mode": {
    "name": "ipython",
    "version": 3
   },
   "file_extension": ".py",
   "mimetype": "text/x-python",
   "name": "python",
   "nbconvert_exporter": "python",
   "pygments_lexer": "ipython3",
   "version": "3.6.5"
  }
 },
 "nbformat": 4,
 "nbformat_minor": 2
}
